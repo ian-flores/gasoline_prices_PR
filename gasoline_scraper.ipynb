{
 "cells": [
  {
   "cell_type": "code",
   "execution_count": 122,
   "metadata": {},
   "outputs": [],
   "source": [
    "import os\n",
    "\n",
    "import requests\n",
    "import urllib3\n",
    "urllib3.disable_warnings()\n",
    "\n",
    "from bs4 import BeautifulSoup"
   ]
  },
  {
   "cell_type": "code",
   "execution_count": 105,
   "metadata": {},
   "outputs": [],
   "source": [
    "dates = []\n",
    "urls = []\n",
    "\n",
    "for i in range(0, 28):\n",
    "    base_url = f'https://estadisticas.pr/index.php/en/estadisticas-mas-recientes'\n",
    "    \n",
    "    page = requests.get(base_url, \n",
    "                        params = {'type': 'precios_mayoristas_gasolina',\n",
    "                                 'page': str(i)},\n",
    "                        verify = False)\n",
    "    bs = BeautifulSoup(page.content, 'html')\n",
    "    \n",
    "    entries = bs.find('div', {'class': 'view-content'}).find('tbody').findAll('tr')\n",
    "    \n",
    "    for entry in entries:\n",
    "        try:\n",
    "            file_type = entry.find('td', {'class': 'views-field-field-estadisticas'}).find('span')['class']\n",
    "\n",
    "            if 'file--application-pdf' in file_type:\n",
    "                date = entry.find('td', {'class': 'views-field-field-fecha-de-publicacion'}).text\n",
    "                date = date.strip()\n",
    "                dates.append(date)\n",
    "                \n",
    "                url = entry.find('a')['href']\n",
    "                urls.append(url)\n",
    "        except:\n",
    "            continue\n",
    "            \n",
    "assert len(urls) == len(dates), print('Dates and URLS don\\'t match')"
   ]
  },
  {
   "cell_type": "code",
   "execution_count": 111,
   "metadata": {},
   "outputs": [],
   "source": [
    "if 'pdf_files' not in os.listdir('.'):\n",
    "    os.makedirs('pdf_files')\n",
    "else:\n",
    "    os.rmdir('pdf_files')\n",
    "    os.makedirs('pdf_files')"
   ]
  },
  {
   "cell_type": "code",
   "execution_count": 112,
   "metadata": {},
   "outputs": [],
   "source": [
    "def get_file(date, url, file_path = './'):\n",
    "    file = requests.get(url, verify = False)\n",
    "    \n",
    "    # From: https://www.geeksforgeeks.org/downloading-files-web-using-python/\n",
    "    with open(f'{file_path}{date}.pdf', 'wb') as pdf:\n",
    "        for chunk in file.iter_content(chunk_size = 1024):\n",
    "            if chunk:\n",
    "                pdf.write(chunk)\n",
    "                \n",
    "    return None"
   ]
  },
  {
   "cell_type": "code",
   "execution_count": 121,
   "metadata": {},
   "outputs": [],
   "source": [
    "for i in range(0, len(dates)):\n",
    "    get_file(dates[i], urls[i], file_path = 'pdf_files/')"
   ]
  }
 ],
 "metadata": {
  "kernelspec": {
   "display_name": "Python 3",
   "language": "python",
   "name": "python3"
  },
  "language_info": {
   "codemirror_mode": {
    "name": "ipython",
    "version": 3
   },
   "file_extension": ".py",
   "mimetype": "text/x-python",
   "name": "python",
   "nbconvert_exporter": "python",
   "pygments_lexer": "ipython3",
   "version": "3.6.8"
  }
 },
 "nbformat": 4,
 "nbformat_minor": 2
}
