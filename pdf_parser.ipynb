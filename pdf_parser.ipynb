{
 "cells": [
  {
   "cell_type": "code",
   "execution_count": 1,
   "metadata": {},
   "outputs": [],
   "source": [
    "import os\n",
    "import pandas as pd\n",
    "from tabula import read_pdf"
   ]
  },
  {
   "cell_type": "code",
   "execution_count": 2,
   "metadata": {},
   "outputs": [],
   "source": [
    "def column_splitter(column_name, pdf):\n",
    "    prices = pdf[column_name].str.split(' ', expand = True)\n",
    "    liter_price = prices[0]\n",
    "    galon_price = prices[1]\n",
    "    \n",
    "    pdf.drop(column_name, axis = 1, inplace=True)\n",
    "    return liter_price, galon_price"
   ]
  },
  {
   "cell_type": "code",
   "execution_count": 3,
   "metadata": {},
   "outputs": [],
   "source": [
    "def file_parser(file_path):\n",
    "    pdf = read_pdf(file_path, pandas_options = {'skiprows': 1})\n",
    "    pdf.columns = pd.Index(['company', 'regular_gas', 'premium_gas', 'gas_date', 'diesel', 'diesel_date'])\n",
    "    \n",
    "    pdf.fillna(method='ffill', inplace=True)\n",
    "\n",
    "    pdf['liter_regular'], pdf['galon_regular'] = column_splitter('regular_gas', pdf)\n",
    "    pdf['liter_premium'], pdf['galon_premium'] = column_splitter('premium_gas', pdf)\n",
    "    pdf['liter_diesel'], pdf['galon_diesel'] = column_splitter('diesel', pdf)\n",
    "    \n",
    "    pdf['company'] = pdf['company'].str.replace('*', '').str.title()\n",
    "    \n",
    "    pdf['gas_date'] = pd.to_datetime(pdf['gas_date'])\n",
    "    pdf['diesel_date'] = pd.to_datetime(pdf['diesel_date'])\n",
    "    \n",
    "    return pdf"
   ]
  },
  {
   "cell_type": "code",
   "execution_count": 4,
   "metadata": {},
   "outputs": [],
   "source": [
    "pdf_files = os.listdir('pdf_files/')"
   ]
  },
  {
   "cell_type": "code",
   "execution_count": 6,
   "metadata": {},
   "outputs": [],
   "source": [
    "if 'csv_files' not in os.listdir('.'):\n",
    "    os.makedirs('csv_files')\n",
    "else:\n",
    "    os.system('rm -rf csv_files')\n",
    "    os.makedirs('csv_files')"
   ]
  },
  {
   "cell_type": "code",
   "execution_count": 8,
   "metadata": {},
   "outputs": [
    {
     "name": "stdout",
     "output_type": "stream",
     "text": [
      "I'm causing trouble:2013-03-12.pdf\n",
      "I'm causing trouble:2012-08-24.pdf\n",
      "I'm causing trouble:2013-03-13.pdf\n",
      "I'm causing trouble:2012-10-26.pdf\n",
      "I'm causing trouble:2013-03-27.pdf\n",
      "I'm causing trouble:2012-10-09.pdf\n",
      "I'm causing trouble:2012-12-05.pdf\n",
      "I'm causing trouble:2012-10-11.pdf\n",
      "I'm causing trouble:2012-09-04.pdf\n",
      "I'm causing trouble:2012-07-20.pdf\n",
      "I'm causing trouble:2012-11-14.pdf\n",
      "I'm causing trouble:2013-02-20.pdf\n",
      "I'm causing trouble:2012-07-19.pdf\n",
      "I'm causing trouble:2013-01-15.pdf\n",
      "I'm causing trouble:2012-12-12.pdf\n",
      "I'm causing trouble:2013-03-04.pdf\n",
      "I'm causing trouble:2013-04-02.pdf\n",
      "I'm causing trouble:2013-02-22.pdf\n",
      "I'm causing trouble:2012-12-07.pdf\n",
      "I'm causing trouble:2012-11-29.pdf\n",
      "I'm causing trouble:2013-05-13.pdf\n",
      "I'm causing trouble:2013-02-11.pdf\n",
      "I'm causing trouble:2013-02-21.pdf\n",
      "I'm causing trouble:2012-09-05.pdf\n",
      "I'm causing trouble:2013-04-26.pdf\n",
      "I'm causing trouble:2013-01-09.pdf\n",
      "I'm causing trouble:2013-04-08.pdf\n",
      "I'm causing trouble:2013-04-01.pdf\n",
      "I'm causing trouble:2012-12-04.pdf\n",
      "I'm causing trouble:2013-04-17.pdf\n",
      "I'm causing trouble:2012-12-18.pdf\n",
      "I'm causing trouble:2012-08-16.pdf\n",
      "I'm causing trouble:2014-02-10.pdf\n",
      "I'm causing trouble:2013-04-24.pdf\n",
      "I'm causing trouble:2012-10-04.pdf\n",
      "I'm causing trouble:2013-01-24.pdf\n",
      "I'm causing trouble:2013-02-08.pdf\n",
      "I'm causing trouble:2012-10-02.pdf\n",
      "I'm causing trouble:2013-04-12.pdf\n",
      "I'm causing trouble:2013-04-05.pdf\n",
      "I'm causing trouble:2012-11-07.pdf\n",
      "I'm causing trouble:2012-11-09.pdf\n",
      "I'm causing trouble:2012-08-28.pdf\n",
      "I'm causing trouble:2012-09-06.pdf\n",
      "I'm causing trouble:2012-08-20.pdf\n",
      "I'm causing trouble:2013-04-04.pdf\n",
      "I'm causing trouble:2013-03-18.pdf\n",
      "I'm causing trouble:2012-12-10.pdf\n",
      "I'm causing trouble:2013-01-31.pdf\n",
      "I'm causing trouble:2013-04-19.pdf\n",
      "I'm causing trouble:2013-01-29.pdf\n",
      "I'm causing trouble:2012-10-15.pdf\n",
      "I'm causing trouble:2012-08-15.pdf\n",
      "I'm causing trouble:2013-02-25.pdf\n",
      "I'm causing trouble:2013-03-26.pdf\n",
      "I'm causing trouble:2013-04-23.pdf\n",
      "I'm causing trouble:2012-10-19.pdf\n",
      "I'm causing trouble:2012-08-14.pdf\n",
      "I'm causing trouble:2012-10-17.pdf\n",
      "I'm causing trouble:2012-07-18.pdf\n",
      "I'm causing trouble:2013-01-30.pdf\n",
      "I'm causing trouble:2012-12-19.pdf\n",
      "I'm causing trouble:2013-04-22.pdf\n",
      "I'm causing trouble:2013-04-16.pdf\n",
      "I'm causing trouble:2012-10-22.pdf\n",
      "I'm causing trouble:2013-02-14.pdf\n",
      "I'm causing trouble:2013-04-10.pdf\n",
      "I'm causing trouble:2012-11-27.pdf\n",
      "I'm causing trouble:2013-03-01.pdf\n",
      "I'm causing trouble:2012-12-06.pdf\n",
      "I'm causing trouble:2012-12-26.pdf\n",
      "I'm causing trouble:2012-10-23.pdf\n",
      "I'm causing trouble:2012-10-29.pdf\n",
      "I'm causing trouble:2013-02-07.pdf\n",
      "I'm causing trouble:2013-02-27.pdf\n",
      "I'm causing trouble:2013-04-11.pdf\n",
      "I'm causing trouble:2013-03-15.pdf\n",
      "I'm causing trouble:2013-02-26.pdf\n",
      "I'm causing trouble:2012-11-08.pdf\n",
      "I'm causing trouble:2013-03-05.pdf\n",
      "I'm causing trouble:2012-10-03.pdf\n"
     ]
    },
    {
     "name": "stderr",
     "output_type": "stream",
     "text": [
      "Error: \n"
     ]
    },
    {
     "name": "stdout",
     "output_type": "stream",
     "text": [
      "I'm causing trouble:.ipynb_checkpoints\n",
      "I'm causing trouble:2013-03-07.pdf\n",
      "I'm causing trouble:2013-01-25.pdf\n",
      "I'm causing trouble:2012-10-31.pdf\n",
      "I'm causing trouble:2013-03-19.pdf\n",
      "I'm causing trouble:2013-02-05.pdf\n",
      "I'm causing trouble:2013-05-09.pdf\n",
      "I'm causing trouble:2013-01-28.pdf\n",
      "I'm causing trouble:2012-07-10.pdf\n",
      "I'm causing trouble:2012-08-29.pdf\n",
      "I'm causing trouble:2012-09-25.pdf\n",
      "I'm causing trouble:2012-08-17.pdf\n",
      "I'm causing trouble:2012-11-05.pdf\n",
      "I'm causing trouble:2012-08-30.pdf\n",
      "I'm causing trouble:2013-02-13.pdf\n",
      "I'm causing trouble:2013-01-08.pdf\n",
      "I'm causing trouble:2012-07-09.pdf\n",
      "I'm causing trouble:2013-03-14.pdf\n",
      "I'm causing trouble:2012-07-13.pdf\n",
      "I'm causing trouble:2012-12-11.pdf\n",
      "I'm causing trouble:2013-03-11.pdf\n",
      "I'm causing trouble:2012-12-20.pdf\n",
      "I'm causing trouble:2012-11-30.pdf\n",
      "I'm causing trouble:2012-12-03.pdf\n",
      "I'm causing trouble:2013-03-06.pdf\n",
      "I'm causing trouble:2013-03-25.pdf\n",
      "I'm causing trouble:2013-04-09.pdf\n",
      "I'm causing trouble:2012-11-20.pdf\n",
      "I'm causing trouble:2013-02-15.pdf\n",
      "I'm causing trouble:2013-02-19.pdf\n",
      "I'm causing trouble:2012-10-10.pdf\n",
      "I'm causing trouble:2012-11-26.pdf\n",
      "I'm causing trouble:2012-10-18.pdf\n",
      "I'm causing trouble:2013-02-28.pdf\n",
      "I'm causing trouble:2013-02-12.pdf\n",
      "I'm causing trouble:2014-05-14.pdf\n",
      "I'm causing trouble:2012-08-27.pdf\n",
      "I'm causing trouble:2012-12-17.pdf\n",
      "I'm causing trouble:2013-04-25.pdf\n",
      "I'm causing trouble:2012-08-31.pdf\n",
      "I'm causing trouble:2013-05-08.pdf\n",
      "I'm causing trouble:2012-12-14.pdf\n"
     ]
    }
   ],
   "source": [
    "parsed_files = list()\n",
    "problematic_files = list()\n",
    "\n",
    "for file in pdf_files:\n",
    "    try:\n",
    "        parsed_pdf = file_parser('pdf_files/' + file)\n",
    "    \n",
    "        new_filename = file.replace('.pdf', '.csv')\n",
    "        parsed_pdf.to_csv('csv_files/' + new_filename)\n",
    "    \n",
    "        parsed_files.append(parsed_pdf)\n",
    "    except:\n",
    "        print('I\\'m causing trouble:' + file)\n",
    "        problematic_files.append(file)"
   ]
  },
  {
   "cell_type": "code",
   "execution_count": 47,
   "metadata": {},
   "outputs": [],
   "source": [
    "parsed_data = pd.concat(parsed_files)"
   ]
  },
  {
   "cell_type": "code",
   "execution_count": 49,
   "metadata": {},
   "outputs": [],
   "source": [
    "new_date = []\n",
    "for idx, date in enumerate(parsed_data['gas_date']):\n",
    "    if date > pd.datetime(2000, 1, 1):\n",
    "        new_date.append(date)\n",
    "    else:\n",
    "        new_date.append(parsed_data['diesel_date'].values[idx])"
   ]
  },
  {
   "cell_type": "code",
   "execution_count": 50,
   "metadata": {},
   "outputs": [],
   "source": [
    "parsed_data['date'] = new_date"
   ]
  },
  {
   "cell_type": "code",
   "execution_count": 51,
   "metadata": {},
   "outputs": [],
   "source": [
    "parsed_data.drop('gas_date', axis = 1, inplace = True)\n",
    "parsed_data.drop('diesel_date', axis = 1, inplace = True)"
   ]
  },
  {
   "cell_type": "code",
   "execution_count": 56,
   "metadata": {},
   "outputs": [],
   "source": [
    "os.makedirs('data')"
   ]
  },
  {
   "cell_type": "code",
   "execution_count": 57,
   "metadata": {},
   "outputs": [],
   "source": [
    "parsed_data.to_csv('data/gasoline_prices_PR.csv')"
   ]
  }
 ],
 "metadata": {
  "kernelspec": {
   "display_name": "Python 3",
   "language": "python",
   "name": "python3"
  },
  "language_info": {
   "codemirror_mode": {
    "name": "ipython",
    "version": 3
   },
   "file_extension": ".py",
   "mimetype": "text/x-python",
   "name": "python",
   "nbconvert_exporter": "python",
   "pygments_lexer": "ipython3",
   "version": "3.6.8"
  }
 },
 "nbformat": 4,
 "nbformat_minor": 2
}
